{
  "cells": [
    {
      "cell_type": "markdown",
      "metadata": {
        "id": "I2PR5YdnJK0x"
      },
      "source": [
        "## Plan of action.\n",
        "We have too little data to train a model dircetly on the data. It will either be too stupid or terribly overfit.\n",
        "\n",
        "To work with this, we will use different data, which is label with that slighly correspond to the labels we are interested in. We will train the net, then remove the last layers then and add new layers ontop. Then finetune.\n",
        "\n",
        "Ideas:\n",
        "1. don't use pooling but stride to reduce amount of parameters.\n",
        "2. normailze\n",
        "3. batch norm\n",
        "4. dropout"
      ]
    },
    {
      "cell_type": "code",
      "execution_count": 1,
      "metadata": {
        "id": "OawkIaS3JK0z"
      },
      "outputs": [],
      "source": [
        "import numpy as np\n",
        "import pandas as pd\n",
        "import torch\n",
        "import torch.nn as nn\n",
        "import torch.optim as optim"
      ]
    },
    {
      "cell_type": "code",
      "execution_count": 64,
      "metadata": {
        "colab": {
          "base_uri": "https://localhost:8080/"
        },
        "id": "qt3yrRBbJK0z",
        "outputId": "d3aecc1c-273e-4509-e666-e1941a0b75d3"
      },
      "outputs": [
        {
          "output_type": "stream",
          "name": "stdout",
          "text": [
            "cuda\n"
          ]
        }
      ],
      "source": [
        "device = torch.device(\"cuda\" if torch.cuda.is_available() else \"cpu\")\n",
        "print(device)"
      ]
    },
    {
      "cell_type": "markdown",
      "source": [
        "## get data"
      ],
      "metadata": {
        "id": "yaadEg-DJjJO"
      }
    },
    {
      "cell_type": "code",
      "source": [
        "from google.colab import drive\n",
        "drive.mount('/content/drive')"
      ],
      "metadata": {
        "colab": {
          "base_uri": "https://localhost:8080/"
        },
        "id": "p5VpIMVrL2Do",
        "outputId": "c59a3676-5da2-49f9-ed9b-348f5f9aded4"
      },
      "execution_count": 3,
      "outputs": [
        {
          "output_type": "stream",
          "name": "stdout",
          "text": [
            "Mounted at /content/drive\n"
          ]
        }
      ]
    },
    {
      "cell_type": "code",
      "source": [
        "import shutil\n",
        "shutil.unpack_archive(\"drive/MyDrive/SolarEnergyMaterials/task4.zip\", \"/content/data\")\n",
        "shutil.unpack_archive(\"data/task4_hr35z9/pretrain_features.csv.zip\", \"/content/data\")\n",
        "shutil.unpack_archive(\"data/task4_hr35z9/pretrain_labels.csv.zip\", \"/content/data\")"
      ],
      "metadata": {
        "id": "IrDmZKsCJqao"
      },
      "execution_count": 6,
      "outputs": []
    },
    {
      "cell_type": "code",
      "source": [
        "import random\n",
        "import numpy as np\n",
        "import pandas as pd\n",
        "import torch\n",
        "EPSILON = 1e-10\n",
        "def load_pretrain_data(batch_size = 64):\n",
        "    batch_size = 64\n",
        "\n",
        "    random.seed(17)\n",
        "    test_ind = set()\n",
        "\n",
        "    pre_train_size = 50000\n",
        "\n",
        "    while len(test_ind) < 10000: \n",
        "        test_ind.add(random.randint(0, pre_train_size-1))\n",
        "\n",
        "    features =[]\n",
        "    labels = []\n",
        "\n",
        "    with open(\"data/pretrain_features.csv\", 'r') as f:\n",
        "        for row in f:\n",
        "            features.append(row)\n",
        "\n",
        "    with open(\"data/pretrain_labels.csv\", 'r') as f:\n",
        "        for row in f:\n",
        "            labels.append(row)\n",
        "\n",
        "    # remove header\n",
        "    features = features[1:]\n",
        "    labels = labels[1:]\n",
        "\n",
        "    # first try to note use representation of the molecules, only the extracted features\n",
        "    features = [list(map(float,row.split(',')[2:])) for row in features]\n",
        "    labels = [float(row.split(',')[1]) for row in labels]\n",
        "\n",
        "    train_features = []\n",
        "    train_labels = []\n",
        "    test_features = []\n",
        "    test_labels = []\n",
        "\n",
        "\n",
        "    for i in range(len(features)):\n",
        "        if i in test_ind:\n",
        "            test_features.append(features[i])\n",
        "            test_labels.append(labels[i])\n",
        "        else:\n",
        "            train_features.append(features[i])\n",
        "            train_labels.append(labels[i])\n",
        "\n",
        "    # does not seem to make sense to normalize the data since it is very sparse\n",
        "    # normalize train_features\n",
        "    # train_features = (train_features - np.mean(train_features, axis=0)) / (np.std(train_features, axis=0)+EPSILON)\n",
        "\n",
        "    # normalize test_features\n",
        "    # test_features = (test_features - np.mean(test_features, axis=0)) / (np.std(test_features, axis=0)+EPSILON)\n",
        "\n",
        "    # convert into tensor dataset\n",
        "    train_features = torch.tensor(train_features, dtype=torch.float)\n",
        "    train_labels = torch.tensor(train_labels, dtype=torch.float)\n",
        "    test_features = torch.tensor(test_features, dtype=torch.float)\n",
        "    test_labels = torch.tensor(test_labels, dtype=torch.float)\n",
        "\n",
        "    train_dataset = torch.utils.data.TensorDataset(train_features, train_labels)\n",
        "    test_dataset = torch.utils.data.TensorDataset(test_features, test_labels) \n",
        "    train_loader = torch.utils.data.DataLoader(train_dataset, batch_size=batch_size, shuffle=True)\n",
        "    test_loader = torch.utils.data.DataLoader(test_dataset, batch_size=batch_size, shuffle=False)\n",
        "\n",
        "    return train_loader, test_loader"
      ],
      "metadata": {
        "id": "-Vp66MeOJksf"
      },
      "execution_count": 7,
      "outputs": []
    },
    {
      "cell_type": "code",
      "source": [
        "train_loader, test_loader = load_pretrain_data(batch_size = 64)"
      ],
      "metadata": {
        "id": "gNKQIcF5N0WE"
      },
      "execution_count": 8,
      "outputs": []
    },
    {
      "cell_type": "markdown",
      "source": [
        "## train model\n"
      ],
      "metadata": {
        "id": "hjnNgtwKJnM_"
      }
    },
    {
      "cell_type": "code",
      "execution_count": 66,
      "metadata": {
        "id": "69MXrw4lJK00"
      },
      "outputs": [],
      "source": [
        "# train loop\n",
        "def train_model(model, data_loader, epochs, lr=0.1, optim=None, weight_decay=0.001):\n",
        "  model.to(device)\n",
        "  if optim is None:\n",
        "    optimizer = torch.optim.SGD(params=model.parameters(), lr=lr, weight_decay=weight_decay)\n",
        "  else:\n",
        "    optimizer = optim(model.parameters(), lr=lr, weight_decay=weight_decay)\n",
        "\n",
        "  loss_fn = nn.MSELoss()\n",
        "  epoch_loss = []\n",
        "  for epoch in range(epochs):\n",
        "    epoch_loss.append(0)\n",
        "    for batch, (X, y) in enumerate(data_loader):\n",
        "      X = X.to(device)\n",
        "      y = y.to(device)\n",
        "      y_pred = model(X)\n",
        "      loss = loss_fn(y_pred, y)\n",
        "      epoch_loss[-1] += loss.item()\n",
        "      optimizer.zero_grad()\n",
        "      loss.backward()\n",
        "      optimizer.step()\n",
        "    print(f\"average batch loss in {epoch+1}: {epoch_loss[-1]/len(data_loader)}\")\n",
        "      \n",
        "\n",
        "\n",
        "\n",
        "# test loop\n",
        "def test_model(model, data_loader):\n",
        "  wrong = 0\n",
        "  right = 0\n",
        "  loss_fn = nn.MSELoss() \n",
        "  model.to(device)\n",
        "  with torch.no_grad():\n",
        "    for batch, (X,y) in enumerate(data_loader):\n",
        "      X = X.to(device)\n",
        "      y = y.to(device)\n",
        "      y_pred = model(X)\n",
        "      y_diff = y-y_pred\n",
        "      for diff in y_diff:\n",
        "        if abs(diff) > 0.1:\n",
        "          wrong+=1\n",
        "        else:\n",
        "          right+=1\n",
        "      loss = loss_fn(y_pred, y)\n",
        "    print(f\"average batch loss: {loss.item()/len(data_loader)} | accuracy: {right}/{right+wrong} | accuracy in percent {100*right/(right+wrong)}\")"
      ]
    },
    {
      "cell_type": "code",
      "execution_count": 43,
      "metadata": {
        "id": "_skh3Z1rJK01"
      },
      "outputs": [],
      "source": [
        "class net(nn.Module):\n",
        "    def __init__(self):\n",
        "        torch.manual_seed = 17\n",
        "        super(net, self).__init__()\n",
        "        self.conv1 = nn.Conv1d(in_channels=1, out_channels=6, stride=2, kernel_size=3)\n",
        "        self.conv2 = nn.Conv1d(in_channels=6, out_channels=16, stride=2, kernel_size=3)\n",
        "        self.conv3 = nn.Conv1d(in_channels=16, out_channels=120, stride=2, kernel_size=3)\n",
        "        self.fc1 = nn.Linear(120*124, 84)\n",
        "        self.fc2 = nn.Linear(84, 1)\n",
        "\n",
        "    def forward(self, x):\n",
        "        x = x.unsqueeze_(dim=1)\n",
        "        x = torch.relu(self.conv1(x))\n",
        "        x = torch.relu(self.conv2(x))\n",
        "        x = torch.relu(self.conv3(x))\n",
        "        x = x.view(-1, 120*124)\n",
        "        x = torch.relu(self.fc1(x))\n",
        "        x = self.fc2(x)\n",
        "        x = x.squeeze_(dim=1)\n",
        "        return x\n",
        "    \n",
        "# using batch normalization\n",
        "class normalized_net(nn.Module):\n",
        "    def __init__(self):\n",
        "        torch.manual_seed = 17\n",
        "        super(normalized_net, self).__init__()\n",
        "        self.conv1 = nn.Conv1d(in_channels=1, out_channels=6, stride=2, kernel_size=3)\n",
        "        self.bn1 = nn.BatchNorm1d(6)\n",
        "        self.conv2 = nn.Conv1d(in_channels=6, out_channels=16, stride=2, kernel_size=3)\n",
        "        self.bn2 = nn.BatchNorm1d(16)\n",
        "        self.conv3 = nn.Conv1d(in_channels=16, out_channels=32, stride=2, kernel_size=3)\n",
        "        self.bn3 = nn.BatchNorm1d(32)\n",
        "        self.conv4 = nn.Conv1d(in_channels=32, out_channels=64, stride=2, kernel_size=3)\n",
        "        self.bn4 = nn.BatchNorm1d(64)\n",
        "        self.conv5 = nn.Conv1d(in_channels=64, out_channels=128, stride=2, kernel_size=3)\n",
        "        self.bn5 = nn.BatchNorm1d(128)\n",
        "        self.fc1 = nn.Linear(128*30, 84)\n",
        "        self.fc2 = nn.Linear(84, 1)\n",
        "\n",
        "    def forward(self, x):\n",
        "        x = x.unsqueeze_(dim=1) # need the x = x.unsqueeze_(dim=1) so gradient computation works\n",
        "        x = torch.relu(self.bn1(self.conv1(x)))\n",
        "        x = torch.relu(self.bn2(self.conv2(x)))\n",
        "        x = torch.relu(self.bn3(self.conv3(x)))\n",
        "        x = torch.relu(self.bn4(self.conv4(x)))\n",
        "        x = torch.relu(self.bn5(self.conv5(x)))\n",
        "        x = x.view(-1, 128*30)\n",
        "        x = torch.relu(self.fc1(x))\n",
        "        x = self.fc2(x)\n",
        "        x = x.squeeze_(dim=1)    \n",
        "        return x\n"
      ]
    },
    {
      "cell_type": "code",
      "execution_count": 39,
      "metadata": {
        "colab": {
          "base_uri": "https://localhost:8080/"
        },
        "id": "Wf7yw5xYJK01",
        "outputId": "29fb8658-4f7b-46c9-8067-cba260bac9a6"
      },
      "outputs": [
        {
          "output_type": "stream",
          "name": "stdout",
          "text": [
            "torch.Size([64, 128, 30])\n"
          ]
        }
      ],
      "source": [
        "test = next(iter(train_loader))[0]\n",
        "dev_model = normalized_net()\n",
        "out = dev_model(test)"
      ]
    },
    {
      "cell_type": "code",
      "execution_count": 60,
      "metadata": {
        "colab": {
          "base_uri": "https://localhost:8080/"
        },
        "id": "4aLdYUbNJK01",
        "outputId": "e7110ad8-76b3-4ebe-e3d2-eeafa704f44e"
      },
      "outputs": [
        {
          "output_type": "stream",
          "name": "stdout",
          "text": [
            "average batch loss in 1: 0.04832211886197329\n",
            "average batch loss in 2: 0.015955748527497052\n",
            "average batch loss in 3: 0.0138593875028193\n",
            "average batch loss in 4: 0.013848679214715958\n",
            "average batch loss in 5: 0.013406210947781801\n",
            "average batch loss in 6: 0.013128400990366936\n",
            "average batch loss in 7: 0.013793663085997105\n",
            "average batch loss in 8: 0.013128213630616664\n",
            "average batch loss in 9: 0.013136810804903507\n",
            "average batch loss in 10: 0.01320596416592598\n",
            "average batch loss in 11: 0.013335453416407109\n",
            "average batch loss in 12: 0.012644454278796912\n",
            "average batch loss in 13: 0.012736681837588549\n",
            "average batch loss in 14: 0.012520046799629926\n",
            "average batch loss in 15: 0.012515485768765211\n",
            "---\n",
            "average batch loss: 1.4018318057060243e-05 | accuracy: 27602/40000 | accuracy in percent 69.005\n",
            "---\n",
            "average batch loss: 7.285112455771986e-05 | accuracy: 6773/10000 | accuracy in percent 67.73\n"
          ]
        }
      ],
      "source": [
        "dev_model =  normalized_net()\n",
        "train_model(dev_model, train_loader, epochs=15, optim = torch.optim.Adam, lr=0.001, weight_decay=0.002)\n",
        "print('---')\n",
        "test_model(dev_model, train_loader)\n",
        "print('---')\n",
        "test_model(dev_model, test_loader)"
      ]
    },
    {
      "cell_type": "code",
      "source": [
        "dev_model =  normalized_net()\n",
        "\n",
        "train_model(dev_model, train_loader, epochs=15, optim = torch.optim.Adagrad, lr=0.001, weight_decay=0.001)\n",
        "print('---')\n",
        "test_model(dev_model, train_loader)\n",
        "print('---')\n",
        "test_model(dev_model, test_loader)\n"
      ],
      "metadata": {
        "id": "n7aRCRiAulqs",
        "outputId": "ec5dc731-4d2e-481a-cdec-280a7e6a2f2e",
        "colab": {
          "base_uri": "https://localhost:8080/"
        }
      },
      "execution_count": 67,
      "outputs": [
        {
          "output_type": "stream",
          "name": "stdout",
          "text": [
            "average batch loss in 1: 0.052456893715262416\n",
            "average batch loss in 2: 0.018803144995868205\n",
            "average batch loss in 3: 0.015965714767575263\n",
            "average batch loss in 4: 0.014213927049189806\n",
            "average batch loss in 5: 0.013095104674994945\n",
            "average batch loss in 6: 0.012271047741174698\n",
            "average batch loss in 7: 0.01156871896237135\n",
            "average batch loss in 8: 0.01102673379331827\n",
            "average batch loss in 9: 0.01059519100189209\n",
            "average batch loss in 10: 0.010167258009314537\n",
            "average batch loss in 11: 0.009883010215312243\n",
            "average batch loss in 12: 0.009588859386742116\n",
            "average batch loss in 13: 0.009299005978554487\n",
            "average batch loss in 14: 0.00901506588086486\n",
            "average batch loss in 15: 0.008847360903769731\n",
            "---\n",
            "average batch loss: 9.972722083330155e-06 | accuracy: 29922/40000 | accuracy in percent 74.805\n",
            "---\n",
            "average batch loss: 8.344114016575418e-05 | accuracy: 7031/10000 | accuracy in percent 70.31\n"
          ]
        }
      ]
    },
    {
      "cell_type": "code",
      "source": [
        "dev_model =  normalized_net()\n",
        "train_model(dev_model, train_loader, epochs=15, lr=0.01)\n",
        "print('---')\n",
        "test_model(dev_model, train_loader)\n",
        "print('---')\n",
        "test_model(dev_model, test_loader)\n"
      ],
      "metadata": {
        "colab": {
          "base_uri": "https://localhost:8080/"
        },
        "id": "CuefK9EMOPJi",
        "outputId": "2cdce04b-2673-4d7c-e267-1439f5accff6"
      },
      "execution_count": 44,
      "outputs": [
        {
          "output_type": "stream",
          "name": "stdout",
          "text": [
            "average batch loss in 1: 0.4968699249774218\n",
            "average batch loss in 2: 0.03491322933137417\n",
            "average batch loss in 3: 0.02677759014368057\n",
            "average batch loss in 4: 0.022675443471968173\n",
            "average batch loss in 5: 0.01888897882774472\n",
            "average batch loss in 6: 0.01708962717205286\n",
            "average batch loss in 7: 0.014661124294251204\n",
            "average batch loss in 8: 0.014020600125193596\n",
            "average batch loss in 9: 0.013597100345045328\n",
            "average batch loss in 10: 0.012233984691649675\n",
            "average batch loss in 11: 0.012298735515773297\n",
            "average batch loss in 12: 0.012327293568104506\n",
            "average batch loss in 13: 0.01067632727175951\n",
            "average batch loss in 14: 0.010132453045248985\n",
            "average batch loss in 15: 0.010068597088754178\n",
            "---\n",
            "average batch loss: 9.880167245864868e-06 | accuracy: 30787/40000 | accuracy in percent 76.9675\n",
            "---\n",
            "average batch loss: 0.00010748181468362262 | accuracy: 7219/10000 | accuracy in percent 72.19\n"
          ]
        }
      ]
    },
    {
      "cell_type": "code",
      "source": [
        "model = "
      ],
      "metadata": {
        "id": "pqbipy4XlZaW"
      },
      "execution_count": null,
      "outputs": []
    }
  ],
  "metadata": {
    "kernelspec": {
      "display_name": "env",
      "language": "python",
      "name": "python3"
    },
    "language_info": {
      "codemirror_mode": {
        "name": "ipython",
        "version": 3
      },
      "file_extension": ".py",
      "mimetype": "text/x-python",
      "name": "python",
      "nbconvert_exporter": "python",
      "pygments_lexer": "ipython3",
      "version": "3.7.13"
    },
    "orig_nbformat": 4,
    "colab": {
      "provenance": [],
      "gpuType": "T4"
    },
    "accelerator": "GPU",
    "gpuClass": "standard"
  },
  "nbformat": 4,
  "nbformat_minor": 0
}