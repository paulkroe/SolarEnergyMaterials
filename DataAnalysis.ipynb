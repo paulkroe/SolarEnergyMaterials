{
 "cells": [
  {
   "cell_type": "code",
   "execution_count": 3,
   "metadata": {},
   "outputs": [],
   "source": [
    "import shutil\n",
    "import os\n",
    "\n",
    "# unpack data.zip file\n",
    "shutil.unpack_archive('data/task4_hr35z9.zip', 'data')"
   ]
  },
  {
   "cell_type": "code",
   "execution_count": 5,
   "metadata": {},
   "outputs": [],
   "source": [
    "assert(os.path.isdir('data/task4_hr35z9'))\n",
    "shutil.unpack_archive('data/task4_hr35z9/pretrain_features.csv.zip', 'data/task4_hr35z9')\n",
    "shutil.unpack_archive('data/task4_hr35z9/pretrain_labels.csv.zip', 'data/task4_hr35z9')\n",
    "shutil.unpack_archive('data/task4_hr35z9/test_features.csv.zip', 'data/task4_hr35z9')\n",
    "shutil.unpack_archive('data/task4_hr35z9/train_features.csv.zip', 'data/task4_hr35z9')\n",
    "shutil.unpack_archive('data/task4_hr35z9/train_labels.csv.zip', 'data/task4_hr35z9')"
   ]
  }
 ],
 "metadata": {
  "kernelspec": {
   "display_name": "SolarEnergyMaterials",
   "language": "python",
   "name": "python3"
  },
  "language_info": {
   "codemirror_mode": {
    "name": "ipython",
    "version": 3
   },
   "file_extension": ".py",
   "mimetype": "text/x-python",
   "name": "python",
   "nbconvert_exporter": "python",
   "pygments_lexer": "ipython3",
   "version": "3.8.16"
  },
  "orig_nbformat": 4
 },
 "nbformat": 4,
 "nbformat_minor": 2
}
